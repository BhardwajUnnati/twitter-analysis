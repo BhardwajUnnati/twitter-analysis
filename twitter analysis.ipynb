{
 "cells": [
  {
   "cell_type": "markdown",
   "id": "764154e4",
   "metadata": {},
   "source": [
    "Initialize Spark Session and Load Data:"
   ]
  },
  {
   "cell_type": "code",
   "execution_count": 1,
   "id": "08a3dee8",
   "metadata": {},
   "outputs": [
    {
     "name": "stdout",
     "output_type": "stream",
     "text": [
      "24/05/20 09:12:07 WARN Utils: Your hostname, muhammad-VM resolves to a loopback address: 127.0.1.1; using 10.0.2.15 instead (on interface enp0s3)\n",
      "24/05/20 09:12:07 WARN Utils: Set SPARK_LOCAL_IP if you need to bind to another address\n"
     ]
    },
    {
     "name": "stderr",
     "output_type": "stream",
     "text": [
      "Setting default log level to \"WARN\".\n",
      "To adjust logging level use sc.setLogLevel(newLevel). For SparkR, use setLogLevel(newLevel).\n"
     ]
    },
    {
     "name": "stdout",
     "output_type": "stream",
     "text": [
      "24/05/20 09:12:08 WARN NativeCodeLoader: Unable to load native-hadoop library for your platform... using builtin-java classes where applicable\n"
     ]
    }
   ],
   "source": [
    "from pyspark.sql import SparkSession\n",
    "from pyspark.sql.functions import col, count, when\n",
    "\n",
    "# Initialize Spark session\n",
    "spark = SparkSession.builder \\\n",
    "    .appName(\"TwitterSentimentAnalysis\") \\\n",
    "    .config(\"spark.master\", \"local[*]\") \\\n",
    "    .config(\"spark.hadoop.fs.defaultFS\", \"hdfs://localhost:9000\") \\\n",
    "    .getOrCreate()\n"
   ]
  },
  {
   "cell_type": "code",
   "execution_count": 2,
   "id": "c8f0d13f",
   "metadata": {},
   "outputs": [
    {
     "name": "stderr",
     "output_type": "stream",
     "text": [
      "                                                                                \r"
     ]
    },
    {
     "name": "stdout",
     "output_type": "stream",
     "text": [
      "root\n",
      " |-- 0: integer (nullable = true)\n",
      " |-- 1467810369: long (nullable = true)\n",
      " |-- Mon Apr 06 22:19:45 PDT 2009: string (nullable = true)\n",
      " |-- NO_QUERY: string (nullable = true)\n",
      " |-- _TheSpecialOne_: string (nullable = true)\n",
      " |-- @switchfoot http://twitpic.com/2y1zl - Awww, that's a bummer.  You shoulda got David Carr of Third Day to do it. ;D: string (nullable = true)\n",
      "\n",
      "+---+----------+----------------------------+--------+---------------+-------------------------------------------------------------------------------------------------------------------+\n",
      "|  0|1467810369|Mon Apr 06 22:19:45 PDT 2009|NO_QUERY|_TheSpecialOne_|@switchfoot http://twitpic.com/2y1zl - Awww, that's a bummer.  You shoulda got David Carr of Third Day to do it. ;D|\n",
      "+---+----------+----------------------------+--------+---------------+-------------------------------------------------------------------------------------------------------------------+\n",
      "|  1|1467810672|        Mon Apr 06 22:19:...|NO_QUERY|  scotthamilton|                                                                                               is upset that he ...|\n",
      "|  2|1467810917|        Mon Apr 06 22:19:...|NO_QUERY|       mattycus|                                                                                               @Kenichan I dived...|\n",
      "|  3|1467811184|        Mon Apr 06 22:19:...|NO_QUERY|        ElleCTF|                                                                                               my whole body fee...|\n",
      "|  4|1467811193|        Mon Apr 06 22:19:...|NO_QUERY|         Karoli|                                                                                               @nationwideclass ...|\n",
      "|  5|1467811372|        Mon Apr 06 22:20:...|NO_QUERY|       joy_wolf|                                                                                               @Kwesidei not the...|\n",
      "|  6|1467811592|        Mon Apr 06 22:20:...|NO_QUERY|        mybirch|                                                                                                        Need a hug |\n",
      "|  7|1467811594|        Mon Apr 06 22:20:...|NO_QUERY|           coZZ|                                                                                               @LOLTrish hey  lo...|\n",
      "|  8|1467811795|        Mon Apr 06 22:20:...|NO_QUERY|2Hood4Hollywood|                                                                                               @Tatiana_K nope t...|\n",
      "|  9|1467812025|        Mon Apr 06 22:20:...|NO_QUERY|        mimismo|                                                                                               @twittera que me ...|\n",
      "| 10|1467812416|        Mon Apr 06 22:20:...|NO_QUERY| erinx3leannexo|                                                                                               spring break in p...|\n",
      "| 11|1467812579|        Mon Apr 06 22:20:...|NO_QUERY|   pardonlauren|                                                                                               I just re-pierced...|\n",
      "| 12|1467812723|        Mon Apr 06 22:20:...|NO_QUERY|           TLeC|                                                                                               @caregiving I cou...|\n",
      "| 13|1467812771|        Mon Apr 06 22:20:...|NO_QUERY|robrobbierobert|                                                                                               @octolinz16 It it...|\n",
      "| 14|1467812784|        Mon Apr 06 22:20:...|NO_QUERY|    bayofwolves|                                                                                               @smarrison i woul...|\n",
      "| 15|1467812799|        Mon Apr 06 22:20:...|NO_QUERY|     HairByJess|                                                                                               @iamjazzyfizzle I...|\n",
      "| 16|1467812964|        Mon Apr 06 22:20:...|NO_QUERY| lovesongwriter|                                                                                               Hollis' death sce...|\n",
      "| 17|1467813137|        Mon Apr 06 22:20:...|NO_QUERY|       armotley|                                                                                               about to file taxes |\n",
      "| 18|1467813579|        Mon Apr 06 22:20:...|NO_QUERY|     starkissed|                                                                                               @LettyA ahh ive a...|\n",
      "| 19|1467813782|        Mon Apr 06 22:20:...|NO_QUERY|      gi_gi_bee|                                                                                               @FakerPattyPattz ...|\n",
      "| 20|1467813985|        Mon Apr 06 22:20:...|NO_QUERY|         quanvu|                                                                                               @alydesigns i was...|\n",
      "+---+----------+----------------------------+--------+---------------+-------------------------------------------------------------------------------------------------------------------+\n",
      "only showing top 20 rows\n",
      "\n"
     ]
    }
   ],
   "source": [
    "# Load the CSV file from HDFS\n",
    "df = spark.read.csv(\"hdfs://localhost:9000/data/projecttweets/ProjectTweets.csv\", header=True, inferSchema=True)\n",
    "\n",
    "# Show the schema and the first few rows\n",
    "df.printSchema()\n",
    "df.show(20)\n"
   ]
  },
  {
   "cell_type": "markdown",
   "id": "4ca28711",
   "metadata": {},
   "source": [
    "Basic Data Exploration:"
   ]
  },
  {
   "cell_type": "code",
   "execution_count": 3,
   "id": "127c4c4a",
   "metadata": {},
   "outputs": [
    {
     "name": "stdout",
     "output_type": "stream",
     "text": [
      "root\n",
      " |-- id: integer (nullable = true)\n",
      " |-- tweet_id: long (nullable = true)\n",
      " |-- date: string (nullable = true)\n",
      " |-- query: string (nullable = true)\n",
      " |-- user: string (nullable = true)\n",
      " |-- text: string (nullable = true)\n",
      "\n",
      "+---+----------+--------------------+--------+-------------+--------------------+\n",
      "| id|  tweet_id|                date|   query|         user|                text|\n",
      "+---+----------+--------------------+--------+-------------+--------------------+\n",
      "|  1|1467810672|Mon Apr 06 22:19:...|NO_QUERY|scotthamilton|is upset that he ...|\n",
      "|  2|1467810917|Mon Apr 06 22:19:...|NO_QUERY|     mattycus|@Kenichan I dived...|\n",
      "|  3|1467811184|Mon Apr 06 22:19:...|NO_QUERY|      ElleCTF|my whole body fee...|\n",
      "|  4|1467811193|Mon Apr 06 22:19:...|NO_QUERY|       Karoli|@nationwideclass ...|\n",
      "|  5|1467811372|Mon Apr 06 22:20:...|NO_QUERY|     joy_wolf|@Kwesidei not the...|\n",
      "+---+----------+--------------------+--------+-------------+--------------------+\n",
      "only showing top 5 rows\n",
      "\n"
     ]
    }
   ],
   "source": [
    "# Assign meaningful column names\n",
    "columns = [\"id\", \"tweet_id\", \"date\", \"query\", \"user\", \"text\"]\n",
    "for old_name, new_name in zip(df.columns, columns):\n",
    "    df = df.withColumnRenamed(old_name, new_name)\n",
    "\n",
    "# Show the renamed columns to ensure they are correct\n",
    "df.printSchema()\n",
    "df.show(5)"
   ]
  },
  {
   "cell_type": "code",
   "execution_count": 4,
   "id": "d5da75b9",
   "metadata": {},
   "outputs": [
    {
     "name": "stderr",
     "output_type": "stream",
     "text": [
      "[Stage 4:=============================>                             (1 + 1) / 2]\r"
     ]
    },
    {
     "name": "stdout",
     "output_type": "stream",
     "text": [
      "+---+--------+----+-----+----+----+\n",
      "| id|tweet_id|date|query|user|text|\n",
      "+---+--------+----+-----+----+----+\n",
      "|  0|       0|   0|    0|   0|   0|\n",
      "+---+--------+----+-----+----+----+\n",
      "\n"
     ]
    },
    {
     "name": "stderr",
     "output_type": "stream",
     "text": [
      "\r",
      "                                                                                \r"
     ]
    }
   ],
   "source": [
    "from pyspark.sql.functions import col, count, when\n",
    "\n",
    "# Check for null values in the DataFrame after renaming columns\n",
    "df.select([count(when(col(c).isNull(), c)).alias(c) for c in df.columns]).show()"
   ]
  },
  {
   "cell_type": "code",
   "execution_count": 5,
   "id": "e6f38a7a",
   "metadata": {},
   "outputs": [
    {
     "name": "stdout",
     "output_type": "stream",
     "text": [
      "root\n",
      " |-- id: integer (nullable = true)\n",
      " |-- tweet_id: long (nullable = true)\n",
      " |-- date: string (nullable = true)\n",
      " |-- query: string (nullable = true)\n",
      " |-- user: string (nullable = true)\n",
      " |-- text: string (nullable = true)\n",
      "\n"
     ]
    },
    {
     "name": "stderr",
     "output_type": "stream",
     "text": [
      "                                                                                \r"
     ]
    },
    {
     "name": "stdout",
     "output_type": "stream",
     "text": [
      "+------+----------+--------------------+--------+---------------+--------------------+\n",
      "|    id|  tweet_id|                date|   query|           user|                text|\n",
      "+------+----------+--------------------+--------+---------------+--------------------+\n",
      "| 80097|1752157726|Sat May 09 21:11:...|NO_QUERY|     crisssycat|          i want ...|\n",
      "|271505|1990029536|Mon Jun 01 03:38:...|NO_QUERY|       Jana1503|  David must be h...|\n",
      "|475465|2177612419|Mon Jun 15 06:24:...|NO_QUERY|LuckyTheMeerkat|  I wanted to sle...|\n",
      "|130856|1835395104|Mon May 18 05:53:...|NO_QUERY|    mstellacrap| ..sniffles... si...|\n",
      "|258386|1985179547|Sun May 31 16:35:...|NO_QUERY|         Mush3l| 2nd item did not...|\n",
      "+------+----------+--------------------+--------+---------------+--------------------+\n",
      "only showing top 5 rows\n",
      "\n"
     ]
    },
    {
     "name": "stderr",
     "output_type": "stream",
     "text": [
      "                                                                                \r"
     ]
    },
    {
     "name": "stdout",
     "output_type": "stream",
     "text": [
      "+---+--------+----+-----+----+----+\n",
      "| id|tweet_id|date|query|user|text|\n",
      "+---+--------+----+-----+----+----+\n",
      "|  0|       0|   0|    0|   0|   0|\n",
      "+---+--------+----+-----+----+----+\n",
      "\n",
      "root\n",
      " |-- id: integer (nullable = true)\n",
      " |-- tweet_id: long (nullable = true)\n",
      " |-- date: string (nullable = true)\n",
      " |-- query: string (nullable = true)\n",
      " |-- user: string (nullable = true)\n",
      " |-- text: string (nullable = true)\n",
      "\n",
      "root\n",
      " |-- id: integer (nullable = true)\n",
      " |-- tweet_id: long (nullable = true)\n",
      " |-- date: string (nullable = true)\n",
      " |-- query: string (nullable = true)\n",
      " |-- user: string (nullable = true)\n",
      " |-- text: string (nullable = true)\n",
      "\n"
     ]
    },
    {
     "name": "stderr",
     "output_type": "stream",
     "text": [
      "[Stage 16:=============================>                            (1 + 1) / 2]\r"
     ]
    },
    {
     "name": "stdout",
     "output_type": "stream",
     "text": [
      "+------+----------+--------------------+--------+---------------+--------------------+\n",
      "|    id|  tweet_id|                date|   query|           user|                text|\n",
      "+------+----------+--------------------+--------+---------------+--------------------+\n",
      "| 80097|1752157726|Sat May 09 21:11:...|NO_QUERY|     crisssycat|          i want ...|\n",
      "|271505|1990029536|Mon Jun 01 03:38:...|NO_QUERY|       Jana1503|  David must be h...|\n",
      "|475465|2177612419|Mon Jun 15 06:24:...|NO_QUERY|LuckyTheMeerkat|  I wanted to sle...|\n",
      "|130856|1835395104|Mon May 18 05:53:...|NO_QUERY|    mstellacrap| ..sniffles... si...|\n",
      "|258386|1985179547|Sun May 31 16:35:...|NO_QUERY|         Mush3l| 2nd item did not...|\n",
      "+------+----------+--------------------+--------+---------------+--------------------+\n",
      "only showing top 5 rows\n",
      "\n"
     ]
    },
    {
     "name": "stderr",
     "output_type": "stream",
     "text": [
      "\r",
      "                                                                                \r"
     ]
    }
   ],
   "source": [
    "# Drop rows with null values in critical columns\n",
    "df_cleaned = df.dropna(subset=['tweet_id', 'user', 'text'])\n",
    "\n",
    "# Remove duplicate rows\n",
    "df_cleaned = df_cleaned.dropDuplicates()\n",
    "\n",
    "# Show the schema and the first few rows of the cleaned DataFrame\n",
    "df_cleaned.printSchema()\n",
    "df_cleaned.show(5)\n",
    "\n",
    "# Check again for null values in the cleaned DataFrame\n",
    "df_cleaned.select([count(when(col(c).isNull(), c)).alias(c) for c in df_cleaned.columns]).show()\n",
    "\n",
    "# Validate data types\n",
    "df_cleaned.printSchema()\n",
    "\n",
    "# Cast columns to correct data types if necessary\n",
    "df_cleaned = df_cleaned.withColumn(\"id\", df_cleaned[\"id\"].cast(\"integer\")) \\\n",
    "                       .withColumn(\"tweet_id\", df_cleaned[\"tweet_id\"].cast(\"long\")) \\\n",
    "                       .withColumn(\"date\", df_cleaned[\"date\"].cast(\"string\")) \\\n",
    "                       .withColumn(\"query\", df_cleaned[\"query\"].cast(\"string\")) \\\n",
    "                       .withColumn(\"user\", df_cleaned[\"user\"].cast(\"string\")) \\\n",
    "                       .withColumn(\"text\", df_cleaned[\"text\"].cast(\"string\"))\n",
    "\n",
    "# Show the schema and the first few rows after data type correction\n",
    "df_cleaned.printSchema()\n",
    "df_cleaned.show(5)\n"
   ]
  },
  {
   "cell_type": "markdown",
   "id": "c258a595",
   "metadata": {},
   "source": [
    "Sentiment Analysis"
   ]
  },
  {
   "cell_type": "code",
   "execution_count": 6,
   "id": "c7c77d1c",
   "metadata": {},
   "outputs": [
    {
     "name": "stderr",
     "output_type": "stream",
     "text": [
      "/usr/lib/python3/dist-packages/scipy/__init__.py:146: UserWarning: A NumPy version >=1.17.3 and <1.25.0 is required for this version of SciPy (detected version 1.26.3\n",
      "  warnings.warn(f\"A NumPy version >={np_minversion} and <{np_maxversion}\"\n"
     ]
    }
   ],
   "source": [
    "from pyspark.sql import SparkSession\n",
    "from pyspark.sql.functions import col, udf\n",
    "from pyspark.sql.types import DoubleType\n",
    "from textblob import TextBlob\n"
   ]
  },
  {
   "cell_type": "code",
   "execution_count": 7,
   "id": "0a114ca2",
   "metadata": {
    "scrolled": true
   },
   "outputs": [
    {
     "name": "stderr",
     "output_type": "stream",
     "text": [
      "/usr/lib/python3/dist-packages/scipy/__init__.py:146: UserWarning: A NumPy version >=1.17.3 and <1.25.0 is required for this version of SciPy (detected version 1.26.3\n",
      "  warnings.warn(f\"A NumPy version >={np_minversion} and <{np_maxversion}\"\n",
      "                                                                                \r"
     ]
    },
    {
     "name": "stdout",
     "output_type": "stream",
     "text": [
      "+------+----------+--------------------+--------+---------------+--------------------+--------------------+\n",
      "|    id|  tweet_id|                date|   query|           user|                text|           sentiment|\n",
      "+------+----------+--------------------+--------+---------------+--------------------+--------------------+\n",
      "| 80097|1752157726|Sat May 09 21:11:...|NO_QUERY|     crisssycat|          i want ...|                 0.0|\n",
      "|271505|1990029536|Mon Jun 01 03:38:...|NO_QUERY|       Jana1503|  David must be h...|                 0.0|\n",
      "|475465|2177612419|Mon Jun 15 06:24:...|NO_QUERY|LuckyTheMeerkat|  I wanted to sle...| 0.24375000000000002|\n",
      "|130856|1835395104|Mon May 18 05:53:...|NO_QUERY|    mstellacrap| ..sniffles... si...|0.004166666666666689|\n",
      "|258386|1985179547|Sun May 31 16:35:...|NO_QUERY|         Mush3l| 2nd item did not...|                 0.0|\n",
      "+------+----------+--------------------+--------+---------------+--------------------+--------------------+\n",
      "only showing top 5 rows\n",
      "\n"
     ]
    },
    {
     "name": "stderr",
     "output_type": "stream",
     "text": [
      "/usr/lib/python3/dist-packages/scipy/__init__.py:146: UserWarning: A NumPy version >=1.17.3 and <1.25.0 is required for this version of SciPy (detected version 1.26.3\n",
      "  warnings.warn(f\"A NumPy version >={np_minversion} and <{np_maxversion}\"\n",
      "/usr/lib/python3/dist-packages/scipy/__init__.py:146: UserWarning: A NumPy version >=1.17.3 and <1.25.0 is required for this version of SciPy (detected version 1.26.3\n",
      "  warnings.warn(f\"A NumPy version >={np_minversion} and <{np_maxversion}\"\n",
      "                                                                                \r"
     ]
    },
    {
     "name": "stdout",
     "output_type": "stream",
     "text": [
      "+--------------------+-----+\n",
      "|           sentiment|count|\n",
      "+--------------------+-----+\n",
      "| 0.45499999999999996|  296|\n",
      "|-0.21749999999999997|    4|\n",
      "| -0.4277777777777777|   57|\n",
      "|  0.1452020202020202|    5|\n",
      "| 0.39333333333333337|   12|\n",
      "|0.012121212121212116|   35|\n",
      "|0.002083333333333312|    2|\n",
      "|  0.3621794871794872|    1|\n",
      "|  0.1766666666666667|    4|\n",
      "|0.009999999999999986|   13|\n",
      "| -0.4603174603174603|    4|\n",
      "|-0.33888888888888896|    4|\n",
      "|-0.01481481481481...|    2|\n",
      "| 0.12727272727272726|   23|\n",
      "| -0.1685185185185185|   15|\n",
      "|-0.09035714285714284|    1|\n",
      "| 0.06857142857142855|    1|\n",
      "|-0.02291666666666...|    3|\n",
      "|-0.08611111111111108|    1|\n",
      "| 0.11688311688311688|    5|\n",
      "+--------------------+-----+\n",
      "only showing top 20 rows\n",
      "\n"
     ]
    },
    {
     "name": "stderr",
     "output_type": "stream",
     "text": [
      "[Stage 30:======================================>                   (2 + 1) / 3]\r"
     ]
    },
    {
     "name": "stdout",
     "output_type": "stream",
     "text": [
      "+-------------+-------------+\n",
      "|         user|avg_sentiment|\n",
      "+-------------+-------------+\n",
      "|    lorinelly|          1.0|\n",
      "|      tournxg|          1.0|\n",
      "|morgrochele21|          1.0|\n",
      "| itskaseyface|          1.0|\n",
      "|   Shamiamwow|          1.0|\n",
      "+-------------+-------------+\n",
      "only showing top 5 rows\n",
      "\n"
     ]
    },
    {
     "name": "stderr",
     "output_type": "stream",
     "text": [
      "\r",
      "                                                                                \r"
     ]
    }
   ],
   "source": [
    "# Define a function to compute sentiment polarity using TextBlob\n",
    "def get_sentiment(text):\n",
    "    try:\n",
    "        return TextBlob(text).sentiment.polarity\n",
    "    except:\n",
    "        return None\n",
    "\n",
    "# Register the function as a UDF\n",
    "sentiment_udf = udf(get_sentiment, DoubleType())\n",
    "\n",
    "# Apply the UDF to the 'text' column to compute sentiment\n",
    "df_with_sentiment = df_cleaned.withColumn(\"sentiment\", sentiment_udf(col(\"text\")))\n",
    "\n",
    "# Show the first few rows with the new sentiment column\n",
    "df_with_sentiment.show(5)\n",
    "\n",
    "# Group by sentiment and count occurrences\n",
    "sentiment_counts = df_with_sentiment.groupBy(\"sentiment\").count()\n",
    "\n",
    "# Show the results\n",
    "sentiment_counts.show()\n",
    "\n",
    "# Group by user and calculate average sentiment\n",
    "user_sentiment = df_with_sentiment.groupBy(\"user\").avg(\"sentiment\").withColumnRenamed(\"avg(sentiment)\", \"avg_sentiment\")\n",
    "\n",
    "# Show the top 5 users with the highest average sentiment\n",
    "user_sentiment.orderBy(\"avg_sentiment\", ascending=False).show(5)\n",
    "\n",
    "\n"
   ]
  },
  {
   "cell_type": "code",
   "execution_count": 8,
   "id": "7f862025",
   "metadata": {},
   "outputs": [
    {
     "name": "stdout",
     "output_type": "stream",
     "text": [
      "Total records in MongoDB: 51\n"
     ]
    }
   ],
   "source": [
    "from pymongo import MongoClient\n",
    "import pandas as pd\n",
    "\n",
    "# Connect to MongoDB\n",
    "client = MongoClient(\"mongodb://localhost:27017/\")\n",
    "db = client[\"twitter_sentiment\"]\n",
    "collection = db[\"tweets\"]\n",
    "\n",
    "# Assuming df_with_sentiment is your cleaned and processed DataFrame with sentiment scores\n",
    "# Sample DataFrame for demonstration\n",
    "data = {\n",
    "    \"id\": [1, 2, 3],\n",
    "    \"tweet_id\": [123456, 789012, 345678],\n",
    "    \"date\": [\"2024-05-01\", \"2024-05-02\", \"2024-05-03\"],\n",
    "    \"query\": [\"query1\", \"query2\", \"query3\"],\n",
    "    \"user\": [\"user1\", \"user2\", \"user3\"],\n",
    "    \"text\": [\"This is a tweet\", \"Another tweet\", \"Yet another tweet\"],\n",
    "    \"sentiment\": [0.1, 0.5, -0.2]\n",
    "}\n",
    "\n",
    "# Convert the dictionary to a Pandas DataFrame\n",
    "df_with_sentiment = pd.DataFrame(data)\n",
    "\n",
    "# Convert the Spark DataFrame to Pandas DataFrame if using Spark DataFrame\n",
    "# pandas_df = df_with_sentiment.toPandas()\n",
    "\n",
    "# Insert data into MongoDB\n",
    "collection.insert_many(df_with_sentiment.to_dict('records'))\n",
    "\n",
    "# Verify insertion\n",
    "print(f\"Total records in MongoDB: {collection.count_documents({})}\")\n",
    "\n",
    "\n",
    "\n",
    "\n",
    "\n"
   ]
  },
  {
   "cell_type": "code",
   "execution_count": 9,
   "id": "b09f1954",
   "metadata": {
    "scrolled": true
   },
   "outputs": [
    {
     "name": "stdout",
     "output_type": "stream",
     "text": [
      "                         _id  id  tweet_id        date   query   user  \\\n",
      "0   66473329caed398a09107991   1    123456  2024-05-01  query1  user1   \n",
      "1   66473329caed398a09107992   2    789012  2024-05-02  query2  user2   \n",
      "2   66473329caed398a09107993   3    345678  2024-05-03  query3  user3   \n",
      "3   66473cd239111bc8c45d2581   1    123456  2024-05-01  query1  user1   \n",
      "4   66473cd239111bc8c45d2582   2    789012  2024-05-02  query2  user2   \n",
      "5   66473cd239111bc8c45d2583   3    345678  2024-05-03  query3  user3   \n",
      "6   66473fd860fab59c87374691   1    123456  2024-05-01  query1  user1   \n",
      "7   66473fd860fab59c87374692   2    789012  2024-05-02  query2  user2   \n",
      "8   66473fd860fab59c87374693   3    345678  2024-05-03  query3  user3   \n",
      "9   6647404860fab59c87374695   1    123456  2024-05-01  query1  user1   \n",
      "10  6647404860fab59c87374696   2    789012  2024-05-02  query2  user2   \n",
      "11  6647404860fab59c87374697   3    345678  2024-05-03  query3  user3   \n",
      "12  664747b4eaaa5deae42c6c16   1    123456  2024-05-01  query1  user1   \n",
      "13  664747b4eaaa5deae42c6c17   2    789012  2024-05-02  query2  user2   \n",
      "14  664747b4eaaa5deae42c6c18   3    345678  2024-05-03  query3  user3   \n",
      "15  66474a6bb90876f0877c33c7   1    123456  2024-05-01  query1  user1   \n",
      "16  66474a6bb90876f0877c33c8   2    789012  2024-05-02  query2  user2   \n",
      "17  66474a6bb90876f0877c33c9   3    345678  2024-05-03  query3  user3   \n",
      "18  66474cdf8dfee29a60ac12fa   1    123456  2024-05-01  query1  user1   \n",
      "19  66474cdf8dfee29a60ac12fb   2    789012  2024-05-02  query2  user2   \n",
      "20  66474cdf8dfee29a60ac12fc   3    345678  2024-05-03  query3  user3   \n",
      "21  664754236ade93d642dba7f1   1    123456  2024-05-01  query1  user1   \n",
      "22  664754236ade93d642dba7f2   2    789012  2024-05-02  query2  user2   \n",
      "23  664754236ade93d642dba7f3   3    345678  2024-05-03  query3  user3   \n",
      "24  66493a917a63033e8d9e58e5   1    123456  2024-05-01  query1  user1   \n",
      "25  66493a917a63033e8d9e58e6   2    789012  2024-05-02  query2  user2   \n",
      "26  66493a917a63033e8d9e58e7   3    345678  2024-05-03  query3  user3   \n",
      "27  66494fb99436e42cc3b0a252   1    123456  2024-05-01  query1  user1   \n",
      "28  66494fb99436e42cc3b0a253   2    789012  2024-05-02  query2  user2   \n",
      "29  66494fb99436e42cc3b0a254   3    345678  2024-05-03  query3  user3   \n",
      "30  664a168038b585848a5325c9   1    123456  2024-05-01  query1  user1   \n",
      "31  664a168038b585848a5325ca   2    789012  2024-05-02  query2  user2   \n",
      "32  664a168038b585848a5325cb   3    345678  2024-05-03  query3  user3   \n",
      "33  664a48eba8950409d9dfecdf   1    123456  2024-05-01  query1  user1   \n",
      "34  664a48eba8950409d9dfece0   2    789012  2024-05-02  query2  user2   \n",
      "35  664a48eba8950409d9dfece1   3    345678  2024-05-03  query3  user3   \n",
      "36  664a9dd188ef5fdefcf2fcc7   1    123456  2024-05-01  query1  user1   \n",
      "37  664a9dd188ef5fdefcf2fcc8   2    789012  2024-05-02  query2  user2   \n",
      "38  664a9dd188ef5fdefcf2fcc9   3    345678  2024-05-03  query3  user3   \n",
      "39  664ab2005edf8cdffce2f498   1    123456  2024-05-01  query1  user1   \n",
      "40  664ab2005edf8cdffce2f499   2    789012  2024-05-02  query2  user2   \n",
      "41  664ab2005edf8cdffce2f49a   3    345678  2024-05-03  query3  user3   \n",
      "42  664ab9da2bc6e9c8361b7b49   1    123456  2024-05-01  query1  user1   \n",
      "43  664ab9da2bc6e9c8361b7b4a   2    789012  2024-05-02  query2  user2   \n",
      "44  664ab9da2bc6e9c8361b7b4b   3    345678  2024-05-03  query3  user3   \n",
      "45  664ad999cec4a4541857c91e   1    123456  2024-05-01  query1  user1   \n",
      "46  664ad999cec4a4541857c91f   2    789012  2024-05-02  query2  user2   \n",
      "47  664ad999cec4a4541857c920   3    345678  2024-05-03  query3  user3   \n",
      "48  664b06eccb70c1e2d60c0641   1    123456  2024-05-01  query1  user1   \n",
      "49  664b06eccb70c1e2d60c0642   2    789012  2024-05-02  query2  user2   \n",
      "50  664b06eccb70c1e2d60c0643   3    345678  2024-05-03  query3  user3   \n",
      "\n",
      "                 text  sentiment  \n",
      "0     This is a tweet        0.1  \n",
      "1       Another tweet        0.5  \n",
      "2   Yet another tweet       -0.2  \n",
      "3     This is a tweet        0.1  \n",
      "4       Another tweet        0.5  \n",
      "5   Yet another tweet       -0.2  \n",
      "6     This is a tweet        0.1  \n",
      "7       Another tweet        0.5  \n",
      "8   Yet another tweet       -0.2  \n",
      "9     This is a tweet        0.1  \n",
      "10      Another tweet        0.5  \n",
      "11  Yet another tweet       -0.2  \n",
      "12    This is a tweet        0.1  \n",
      "13      Another tweet        0.5  \n",
      "14  Yet another tweet       -0.2  \n",
      "15    This is a tweet        0.1  \n",
      "16      Another tweet        0.5  \n",
      "17  Yet another tweet       -0.2  \n",
      "18    This is a tweet        0.1  \n",
      "19      Another tweet        0.5  \n",
      "20  Yet another tweet       -0.2  \n",
      "21    This is a tweet        0.1  \n",
      "22      Another tweet        0.5  \n",
      "23  Yet another tweet       -0.2  \n",
      "24    This is a tweet        0.1  \n",
      "25      Another tweet        0.5  \n",
      "26  Yet another tweet       -0.2  \n",
      "27    This is a tweet        0.1  \n",
      "28      Another tweet        0.5  \n",
      "29  Yet another tweet       -0.2  \n",
      "30    This is a tweet        0.1  \n",
      "31      Another tweet        0.5  \n",
      "32  Yet another tweet       -0.2  \n",
      "33    This is a tweet        0.1  \n",
      "34      Another tweet        0.5  \n",
      "35  Yet another tweet       -0.2  \n",
      "36    This is a tweet        0.1  \n",
      "37      Another tweet        0.5  \n",
      "38  Yet another tweet       -0.2  \n",
      "39    This is a tweet        0.1  \n",
      "40      Another tweet        0.5  \n",
      "41  Yet another tweet       -0.2  \n",
      "42    This is a tweet        0.1  \n",
      "43      Another tweet        0.5  \n",
      "44  Yet another tweet       -0.2  \n",
      "45    This is a tweet        0.1  \n",
      "46      Another tweet        0.5  \n",
      "47  Yet another tweet       -0.2  \n",
      "48    This is a tweet        0.1  \n",
      "49      Another tweet        0.5  \n",
      "50  Yet another tweet       -0.2  \n"
     ]
    }
   ],
   "source": [
    "\n",
    "# Query all documents\n",
    "documents = collection.find()\n",
    "\n",
    "# Convert to DataFrame\n",
    "df = pd.DataFrame(list(documents))\n",
    "\n",
    "# Display the DataFrame\n",
    "print(df)\n"
   ]
  },
  {
   "cell_type": "code",
   "execution_count": 10,
   "id": "e6f58417",
   "metadata": {},
   "outputs": [
    {
     "name": "stdout",
     "output_type": "stream",
     "text": [
      "\n",
      "Comparative Analysis of MySQL and MongoDB Performance\n",
      "\n",
      "Metric                         MySQL           MongoDB        \n",
      "------------------------------------------------------------\n",
      "RunTime (ms)                   3581            720            \n",
      "Throughput (ops/sec)           279.25          1388.89        \n",
      "Read Avg Latency (us)          715.45          408.08         \n",
      "Read 95th Latency (us)         1659            502            \n",
      "Read 99th Latency (us)         3959            1441           \n",
      "Update Avg Latency (us)        5618.44         290.58         \n",
      "Update 95th Latency (us)       9287            463            \n",
      "Update 99th Latency (us)       12511           1362           \n"
     ]
    }
   ],
   "source": [
    "# Comparative Analysis\n",
    "mysql_results = {\n",
    "    'RunTime(ms)': 3581,\n",
    "    'Throughput(ops/sec)': 279.25,\n",
    "    'Read': {'AvgLatency(us)': 715.45, '95thLatency(us)': 1659, '99thLatency(us)': 3959},\n",
    "    'Update': {'AvgLatency(us)': 5618.44, '95thLatency(us)': 9287, '99thLatency(us)': 12511}\n",
    "}\n",
    "\n",
    "mongodb_results = {\n",
    "    'RunTime(ms)': 720,\n",
    "    'Throughput(ops/sec)': 1388.89,\n",
    "    'Read': {'AvgLatency(us)': 408.08, '95thLatency(us)': 502, '99thLatency(us)': 1441},\n",
    "    'Update': {'AvgLatency(us)': 290.58, '95thLatency(us)': 463, '99thLatency(us)': 1362}\n",
    "}\n",
    "\n",
    "def print_comparative_analysis(mysql_results, mongodb_results):\n",
    "    print(\"\\nComparative Analysis of MySQL and MongoDB Performance\\n\")\n",
    "    print(f\"{'Metric':<30} {'MySQL':<15} {'MongoDB':<15}\")\n",
    "    print(\"-\" * 60)\n",
    "    print(f\"{'RunTime (ms)':<30} {mysql_results['RunTime(ms)']:<15} {mongodb_results['RunTime(ms)']:<15}\")\n",
    "    print(f\"{'Throughput (ops/sec)':<30} {mysql_results['Throughput(ops/sec)']:<15} {mongodb_results['Throughput(ops/sec)']:<15}\")\n",
    "    print(f\"{'Read Avg Latency (us)':<30} {mysql_results['Read']['AvgLatency(us)']:<15} {mongodb_results['Read']['AvgLatency(us)']:<15}\")\n",
    "    print(f\"{'Read 95th Latency (us)':<30} {mysql_results['Read']['95thLatency(us)']:<15} {mongodb_results['Read']['95thLatency(us)']:<15}\")\n",
    "    print(f\"{'Read 99th Latency (us)':<30} {mysql_results['Read']['99thLatency(us)']:<15} {mongodb_results['Read']['99thLatency(us)']:<15}\")\n",
    "    print(f\"{'Update Avg Latency (us)':<30} {mysql_results['Update']['AvgLatency(us)']:<15} {mongodb_results['Update']['AvgLatency(us)']:<15}\")\n",
    "    print(f\"{'Update 95th Latency (us)':<30} {mysql_results['Update']['95thLatency(us)']:<15} {mongodb_results['Update']['95thLatency(us)']:<15}\")\n",
    "    print(f\"{'Update 99th Latency (us)':<30} {mysql_results['Update']['99thLatency(us)']:<15} {mongodb_results['Update']['99thLatency(us)']:<15}\")\n",
    "\n",
    "# Call the function to print the comparative analysis\n",
    "print_comparative_analysis(mysql_results, mongodb_results)"
   ]
  },
  {
   "cell_type": "code",
   "execution_count": 11,
   "id": "31e409d9",
   "metadata": {},
   "outputs": [
    {
     "name": "stdout",
     "output_type": "stream",
     "text": [
      "Average Sentiment Score: 0.1333333333333333\n"
     ]
    }
   ],
   "source": [
    "# Calculate average sentiment score\n",
    "average_sentiment = df['sentiment'].mean()\n",
    "print(f\"Average Sentiment Score: {average_sentiment}\")\n"
   ]
  },
  {
   "cell_type": "code",
   "execution_count": 12,
   "id": "e09099e0",
   "metadata": {},
   "outputs": [],
   "source": [
    "# Ensure the sentiment column is numeric\n",
    "df['sentiment'] = pd.to_numeric(df['sentiment'], errors='coerce')\n",
    "\n",
    "# Drop rows with NaN values in the sentiment column\n",
    "df = df.dropna(subset=['sentiment'])\n"
   ]
  },
  {
   "cell_type": "code",
   "execution_count": 13,
   "id": "090fdc78",
   "metadata": {
    "scrolled": true
   },
   "outputs": [
    {
     "name": "stdout",
     "output_type": "stream",
     "text": [
      "0    0.1\n",
      "1    0.5\n",
      "2   -0.2\n",
      "3    0.1\n",
      "4    0.5\n",
      "Name: sentiment, dtype: float64\n",
      "float64\n"
     ]
    }
   ],
   "source": [
    "print(df['sentiment'].head())\n",
    "print(df['sentiment'].dtype)\n"
   ]
  },
  {
   "cell_type": "code",
   "execution_count": 14,
   "id": "86542ec6",
   "metadata": {},
   "outputs": [
    {
     "name": "stdout",
     "output_type": "stream",
     "text": [
      "count    51.000000\n",
      "mean      0.133333\n",
      "std       0.289597\n",
      "min      -0.200000\n",
      "25%      -0.200000\n",
      "50%       0.100000\n",
      "75%       0.500000\n",
      "max       0.500000\n",
      "Name: sentiment, dtype: float64\n"
     ]
    }
   ],
   "source": [
    "# Basic statistics of sentiment scores\n",
    "print(df['sentiment'].describe())\n"
   ]
  },
  {
   "cell_type": "code",
   "execution_count": 15,
   "id": "5570c82f",
   "metadata": {},
   "outputs": [
    {
     "data": {
      "image/png": "[encoded data removed]",
      "text/plain": [
       "<Figure size 432x288 with 1 Axes>"
      ]
     },
     "metadata": {
      "needs_background": "light"
     },
     "output_type": "display_data"
    }
   ],
   "source": [
    "import matplotlib.pyplot as plt\n",
    "import seaborn as sns \n",
    "\n",
    "# Ensure the sentiment column is numeric\n",
    "df['sentiment'] = pd.to_numeric(df['sentiment'], errors='coerce')\n",
    "\n",
    "# Drop rows with NaN values in the sentiment column\n",
    "df = df.dropna(subset=['sentiment'])\n",
    "\n",
    "# Plot sentiment scores using matplotlib\n",
    "plt.hist(df['sentiment'], bins=20, edgecolor='k', alpha=0.7)\n",
    "plt.title('Sentiment Score Distribution')\n",
    "plt.xlabel('Sentiment Score')\n",
    "plt.ylabel('Frequency')\n",
    "plt.grid(True)\n",
    "plt.show()\n"
   ]
  },
  {
   "cell_type": "code",
   "execution_count": 16,
   "id": "2ebcace7",
   "metadata": {
    "scrolled": false
   },
   "outputs": [
    {
     "name": "stdout",
     "output_type": "stream",
     "text": [
      "                         _id  id  tweet_id       date   query   user  \\\n",
      "0   66473329caed398a09107991   1    123456 2024-05-01  query1  user1   \n",
      "1   66473329caed398a09107992   2    789012 2024-05-02  query2  user2   \n",
      "2   66473329caed398a09107993   3    345678 2024-05-03  query3  user3   \n",
      "3   66473cd239111bc8c45d2581   1    123456 2024-05-01  query1  user1   \n",
      "4   66473cd239111bc8c45d2582   2    789012 2024-05-02  query2  user2   \n",
      "5   66473cd239111bc8c45d2583   3    345678 2024-05-03  query3  user3   \n",
      "6   66473fd860fab59c87374691   1    123456 2024-05-01  query1  user1   \n",
      "7   66473fd860fab59c87374692   2    789012 2024-05-02  query2  user2   \n",
      "8   66473fd860fab59c87374693   3    345678 2024-05-03  query3  user3   \n",
      "9   6647404860fab59c87374695   1    123456 2024-05-01  query1  user1   \n",
      "10  6647404860fab59c87374696   2    789012 2024-05-02  query2  user2   \n",
      "11  6647404860fab59c87374697   3    345678 2024-05-03  query3  user3   \n",
      "12  664747b4eaaa5deae42c6c16   1    123456 2024-05-01  query1  user1   \n",
      "13  664747b4eaaa5deae42c6c17   2    789012 2024-05-02  query2  user2   \n",
      "14  664747b4eaaa5deae42c6c18   3    345678 2024-05-03  query3  user3   \n",
      "15  66474a6bb90876f0877c33c7   1    123456 2024-05-01  query1  user1   \n",
      "16  66474a6bb90876f0877c33c8   2    789012 2024-05-02  query2  user2   \n",
      "17  66474a6bb90876f0877c33c9   3    345678 2024-05-03  query3  user3   \n",
      "18  66474cdf8dfee29a60ac12fa   1    123456 2024-05-01  query1  user1   \n",
      "19  66474cdf8dfee29a60ac12fb   2    789012 2024-05-02  query2  user2   \n",
      "20  66474cdf8dfee29a60ac12fc   3    345678 2024-05-03  query3  user3   \n",
      "21  664754236ade93d642dba7f1   1    123456 2024-05-01  query1  user1   \n",
      "22  664754236ade93d642dba7f2   2    789012 2024-05-02  query2  user2   \n",
      "23  664754236ade93d642dba7f3   3    345678 2024-05-03  query3  user3   \n",
      "24  66493a917a63033e8d9e58e5   1    123456 2024-05-01  query1  user1   \n",
      "25  66493a917a63033e8d9e58e6   2    789012 2024-05-02  query2  user2   \n",
      "26  66493a917a63033e8d9e58e7   3    345678 2024-05-03  query3  user3   \n",
      "27  66494fb99436e42cc3b0a252   1    123456 2024-05-01  query1  user1   \n",
      "28  66494fb99436e42cc3b0a253   2    789012 2024-05-02  query2  user2   \n",
      "29  66494fb99436e42cc3b0a254   3    345678 2024-05-03  query3  user3   \n",
      "30  664a168038b585848a5325c9   1    123456 2024-05-01  query1  user1   \n",
      "31  664a168038b585848a5325ca   2    789012 2024-05-02  query2  user2   \n",
      "32  664a168038b585848a5325cb   3    345678 2024-05-03  query3  user3   \n",
      "33  664a48eba8950409d9dfecdf   1    123456 2024-05-01  query1  user1   \n",
      "34  664a48eba8950409d9dfece0   2    789012 2024-05-02  query2  user2   \n",
      "35  664a48eba8950409d9dfece1   3    345678 2024-05-03  query3  user3   \n",
      "36  664a9dd188ef5fdefcf2fcc7   1    123456 2024-05-01  query1  user1   \n",
      "37  664a9dd188ef5fdefcf2fcc8   2    789012 2024-05-02  query2  user2   \n",
      "38  664a9dd188ef5fdefcf2fcc9   3    345678 2024-05-03  query3  user3   \n",
      "39  664ab2005edf8cdffce2f498   1    123456 2024-05-01  query1  user1   \n",
      "40  664ab2005edf8cdffce2f499   2    789012 2024-05-02  query2  user2   \n",
      "41  664ab2005edf8cdffce2f49a   3    345678 2024-05-03  query3  user3   \n",
      "42  664ab9da2bc6e9c8361b7b49   1    123456 2024-05-01  query1  user1   \n",
      "43  664ab9da2bc6e9c8361b7b4a   2    789012 2024-05-02  query2  user2   \n",
      "44  664ab9da2bc6e9c8361b7b4b   3    345678 2024-05-03  query3  user3   \n",
      "45  664ad999cec4a4541857c91e   1    123456 2024-05-01  query1  user1   \n",
      "46  664ad999cec4a4541857c91f   2    789012 2024-05-02  query2  user2   \n",
      "47  664ad999cec4a4541857c920   3    345678 2024-05-03  query3  user3   \n",
      "48  664b06eccb70c1e2d60c0641   1    123456 2024-05-01  query1  user1   \n",
      "49  664b06eccb70c1e2d60c0642   2    789012 2024-05-02  query2  user2   \n",
      "50  664b06eccb70c1e2d60c0643   3    345678 2024-05-03  query3  user3   \n",
      "\n",
      "                 text  sentiment  \n",
      "0     This is a tweet        0.1  \n",
      "1       Another tweet        0.5  \n",
      "2   Yet another tweet       -0.2  \n",
      "3     This is a tweet        0.1  \n",
      "4       Another tweet        0.5  \n",
      "5   Yet another tweet       -0.2  \n",
      "6     This is a tweet        0.1  \n",
      "7       Another tweet        0.5  \n",
      "8   Yet another tweet       -0.2  \n",
      "9     This is a tweet        0.1  \n",
      "10      Another tweet        0.5  \n",
      "11  Yet another tweet       -0.2  \n",
      "12    This is a tweet        0.1  \n",
      "13      Another tweet        0.5  \n",
      "14  Yet another tweet       -0.2  \n",
      "15    This is a tweet        0.1  \n",
      "16      Another tweet        0.5  \n",
      "17  Yet another tweet       -0.2  \n",
      "18    This is a tweet        0.1  \n",
      "19      Another tweet        0.5  \n",
      "20  Yet another tweet       -0.2  \n",
      "21    This is a tweet        0.1  \n",
      "22      Another tweet        0.5  \n",
      "23  Yet another tweet       -0.2  \n",
      "24    This is a tweet        0.1  \n",
      "25      Another tweet        0.5  \n",
      "26  Yet another tweet       -0.2  \n",
      "27    This is a tweet        0.1  \n",
      "28      Another tweet        0.5  \n",
      "29  Yet another tweet       -0.2  \n",
      "30    This is a tweet        0.1  \n",
      "31      Another tweet        0.5  \n",
      "32  Yet another tweet       -0.2  \n",
      "33    This is a tweet        0.1  \n",
      "34      Another tweet        0.5  \n",
      "35  Yet another tweet       -0.2  \n",
      "36    This is a tweet        0.1  \n",
      "37      Another tweet        0.5  \n",
      "38  Yet another tweet       -0.2  \n",
      "39    This is a tweet        0.1  \n",
      "40      Another tweet        0.5  \n",
      "41  Yet another tweet       -0.2  \n",
      "42    This is a tweet        0.1  \n",
      "43      Another tweet        0.5  \n",
      "44  Yet another tweet       -0.2  \n",
      "45    This is a tweet        0.1  \n",
      "46      Another tweet        0.5  \n",
      "47  Yet another tweet       -0.2  \n",
      "48    This is a tweet        0.1  \n",
      "49      Another tweet        0.5  \n",
      "50  Yet another tweet       -0.2  \n",
      "        date  sentiment\n",
      "0 2024-05-01        0.1\n",
      "1 2024-05-02        0.5\n",
      "2 2024-05-03       -0.2\n",
      "Average Sentiment Score: 0.1333333333333333\n"
     ]
    },
    {
     "data": {
      "image/png": "[encoded data removed]",
      "text/plain": [
       "<Figure size 720x360 with 1 Axes>"
      ]
     },
     "metadata": {
      "needs_background": "light"
     },
     "output_type": "display_data"
    }
   ],
   "source": [
    "\n",
    "# Query all documents\n",
    "documents = collection.find()\n",
    "\n",
    "# Convert to DataFrame\n",
    "df = pd.DataFrame(list(documents))\n",
    "\n",
    "# Ensure the sentiment column is numeric\n",
    "df['sentiment'] = pd.to_numeric(df['sentiment'], errors='coerce')\n",
    "\n",
    "# Drop rows with NaN values in the sentiment column\n",
    "df = df.dropna(subset=['sentiment'])\n",
    "\n",
    "# Ensure the date column is in datetime format\n",
    "df['date'] = pd.to_datetime(df['date'], errors='coerce')\n",
    "\n",
    "# Drop rows with NaT values in the date column\n",
    "df = df.dropna(subset=['date'])\n",
    "\n",
    "# Group by date and calculate average sentiment\n",
    "sentiment_trend = df.groupby('date')['sentiment'].mean().reset_index()\n",
    "\n",
    "# Ensure there's no multi-dimensional indexing issue\n",
    "sentiment_trend = sentiment_trend.reset_index(drop=True)\n",
    "\n",
    "# Display the DataFrame and sentiment trend\n",
    "print(df)\n",
    "print(sentiment_trend)\n",
    "\n",
    "# Calculate average sentiment score\n",
    "average_sentiment = df['sentiment'].mean()\n",
    "print(f\"Average Sentiment Score: {average_sentiment}\")\n",
    "\n",
    "# Convert 'date' and 'sentiment' columns to numpy arrays for plotting\n",
    "dates = sentiment_trend['date'].values\n",
    "sentiments = sentiment_trend['sentiment'].values\n",
    "\n",
    "# Plot sentiment trend over time\n",
    "plt.figure(figsize=(10, 5))\n",
    "plt.plot(dates, sentiments, marker='o')\n",
    "plt.title('Sentiment Trend Over Time')\n",
    "plt.xlabel('Date')\n",
    "plt.ylabel('Average Sentiment')\n",
    "plt.grid(True)\n",
    "plt.show()"
   ]
  },
  {
   "cell_type": "code",
   "execution_count": 18,
   "id": "785a9c4a",
   "metadata": {},
   "outputs": [
    {
     "name": "stderr",
     "output_type": "stream",
     "text": [
      "/usr/lib/python3/dist-packages/scipy/__init__.py:146: UserWarning: A NumPy version >=1.17.3 and <1.25.0 is required for this version of SciPy (detected version 1.26.3\n",
      "  warnings.warn(f\"A NumPy version >={np_minversion} and <{np_maxversion}\"\n",
      "/usr/lib/python3/dist-packages/scipy/__init__.py:146: UserWarning: A NumPy version >=1.17.3 and <1.25.0 is required for this version of SciPy (detected version 1.26.3\n",
      "  warnings.warn(f\"A NumPy version >={np_minversion} and <{np_maxversion}\"\n",
      "                                                                                \r"
     ]
    },
    {
     "data": {
      "image/png": "[encoded data removed]",
      "text/plain": [
       "<Figure size 432x288 with 2 Axes>"
      ]
     },
     "metadata": {
      "needs_background": "light"
     },
     "output_type": "display_data"
    }
   ],
   "source": [
    "# Convert the PySpark DataFrame to a Pandas DataFrame\n",
    "user_sentiment_pd = user_sentiment.toPandas()\n",
    "\n",
    "# Save user sentiment analysis to CSV\n",
    "user_sentiment_pd.to_csv('user_sentiment_analysis.csv', index=False)\n",
    "\n",
    "# Insert user sentiment analysis results into MongoDB\n",
    "user_sentiment_dict = user_sentiment_pd.to_dict('records')\n",
    "db['user_sentiment_analysis'].insert_many(user_sentiment_dict)\n",
    "\n",
    "# Exclude non-numeric columns for correlation matrix\n",
    "numeric_df = df.select_dtypes(include=['float64', 'int64'])\n",
    "\n",
    "# Correlation heatmap\n",
    "correlation_matrix = numeric_df.corr()\n",
    "sns.heatmap(correlation_matrix, annot=True, cmap='coolwarm')\n",
    "plt.title('Correlation Heatmap')\n",
    "plt.show()\n"
   ]
  },
  {
   "cell_type": "code",
   "execution_count": 19,
   "id": "0d07ffea",
   "metadata": {},
   "outputs": [
    {
     "data": {
      "image/png": "[encoded data removed]",
      "text/plain": [
       "<Figure size 1008x504 with 1 Axes>"
      ]
     },
     "metadata": {
      "needs_background": "light"
     },
     "output_type": "display_data"
    }
   ],
   "source": [
    "# Drop rows with NaT values in the date column\n",
    "df = df.dropna(subset=['date'])\n",
    "\n",
    "# Set the date as the index\n",
    "df.set_index('date', inplace=True)\n",
    "\n",
    "# Resample the data to ensure it is in daily frequency\n",
    "daily_sentiment = df['sentiment'].resample('D').mean()\n",
    "\n",
    "# Calculate rolling averages for 1-day, 3-day, and 7-day windows\n",
    "rolling_1d = daily_sentiment.rolling(window=1).mean()\n",
    "rolling_3d = daily_sentiment.rolling(window=3).mean()\n",
    "rolling_7d = daily_sentiment.rolling(window=7).mean()\n",
    "\n",
    "# Plot the results\n",
    "plt.figure(figsize=(14, 7))\n",
    "\n",
    "plt.plot(daily_sentiment, label='Daily Sentiment', marker='o')\n",
    "plt.plot(rolling_1d, label='1-Day Rolling Average', linestyle='--')\n",
    "plt.plot(rolling_3d, label='3-Day Rolling Average', linestyle='--')\n",
    "plt.plot(rolling_7d, label='7-Day Rolling Average', linestyle='--')\n",
    "\n",
    "plt.title('Sentiment Trend Over Time')\n",
    "plt.xlabel('Date')\n",
    "plt.ylabel('Average Sentiment')\n",
    "plt.legend()\n",
    "plt.grid(True)\n",
    "plt.show()"
   ]
  },
  {
   "cell_type": "code",
   "execution_count": 20,
   "id": "e3054ad6",
   "metadata": {},
   "outputs": [
    {
     "name": "stdout",
     "output_type": "stream",
     "text": [
      "ARIMA Forecasts:\n",
      "1 Day: 2024-05-04    0.40307\n",
      "Freq: D, dtype: float64\n",
      "3 Days: 2024-05-04    0.403070\n",
      "2024-05-05   -0.116500\n",
      "2024-05-06    0.331122\n",
      "Freq: D, Name: predicted_mean, dtype: float64\n",
      "7 Days: 2024-05-04    0.403070\n",
      "2024-05-05   -0.116500\n",
      "2024-05-06    0.331122\n",
      "2024-05-07   -0.054525\n",
      "2024-05-08    0.277722\n",
      "2024-05-09   -0.008519\n",
      "2024-05-10    0.238086\n",
      "Freq: D, Name: predicted_mean, dtype: float64\n"
     ]
    },
    {
     "name": "stderr",
     "output_type": "stream",
     "text": [
      "/home/hduser/.local/lib/python3.10/site-packages/statsmodels/tsa/statespace/sarimax.py:866: UserWarning: Too few observations to estimate starting parameters for ARMA and trend. All parameters except for variances will be set to zeros.\n",
      "  warn('Too few observations to estimate starting parameters%s.'\n"
     ]
    }
   ],
   "source": [
    "from statsmodels.tsa.arima.model import ARIMA\n",
    "import numpy as np\n",
    "\n",
    "# Fit ARIMA model\n",
    "model = ARIMA(daily_sentiment, order=(5, 1, 0))\n",
    "arima_result = model.fit()\n",
    "\n",
    "# Forecast\n",
    "forecast_1d = arima_result.forecast(steps=1)\n",
    "forecast_3d = arima_result.forecast(steps=3)\n",
    "forecast_7d = arima_result.forecast(steps=7)\n",
    "\n",
    "print(\"ARIMA Forecasts:\")\n",
    "print(f\"1 Day: {forecast_1d}\")\n",
    "print(f\"3 Days: {forecast_3d}\")\n",
    "print(f\"7 Days: {forecast_7d}\")\n"
   ]
  },
  {
   "cell_type": "code",
   "execution_count": 21,
   "id": "ca7dc1ed",
   "metadata": {},
   "outputs": [],
   "source": [
    "import torch\n",
    "import torch.nn as nn\n",
    "from sklearn.preprocessing import StandardScaler\n",
    "\n"
   ]
  },
  {
   "cell_type": "code",
   "execution_count": 22,
   "id": "12b3c9ce",
   "metadata": {},
   "outputs": [
    {
     "name": "stdout",
     "output_type": "stream",
     "text": [
      "epoch:   0 loss: 0.09436588\n",
      "epoch:   1 loss: 0.07605276\n",
      "epoch:   2 loss: 0.06613529\n",
      "epoch:   3 loss: 0.06090020\n",
      "epoch:   4 loss: 0.05841412\n",
      "Length of daily_sentiment index: 100\n",
      "Length of predictions: 97\n",
      "Length of dates_for_plotting: 97\n"
     ]
    },
    {
     "data": {
      "image/png": "[encoded data removed]",
      "text/plain": [
       "<Figure size 1008x504 with 1 Axes>"
      ]
     },
     "metadata": {
      "needs_background": "light"
     },
     "output_type": "display_data"
    },
    {
     "name": "stdout",
     "output_type": "stream",
     "text": [
      "LSTM Forecasts:\n",
      "[0.0326324  0.02951809 0.05513788 0.0876015  0.04506396 0.06387962\n",
      " 0.11836011]\n"
     ]
    }
   ],
   "source": [
    "# Generate a sample dataset\n",
    "dates = pd.date_range(start='2024-05-01', periods=100)\n",
    "sentiments = np.random.randn(100)\n",
    "\n",
    "# Create a DataFrame\n",
    "df = pd.DataFrame({'date': dates, 'sentiment': sentiments})\n",
    "df.set_index('date', inplace=True)\n",
    "\n",
    "# Resample the data to ensure it is in daily frequency\n",
    "daily_sentiment = df['sentiment'].resample('D').mean()\n",
    "\n",
    "# Prepare the data\n",
    "sentiment_values = daily_sentiment.values.reshape(-1, 1)\n",
    "scaler = StandardScaler()\n",
    "sentiment_scaled = scaler.fit_transform(sentiment_values)\n",
    "\n",
    "# Create sequences\n",
    "def create_sequences(data, seq_length):\n",
    "    xs, ys = [], []\n",
    "    for i in range(len(data) - seq_length):\n",
    "        x = data[i:i+seq_length]\n",
    "        y = data[i+seq_length]\n",
    "        xs.append(x)\n",
    "        ys.append(y)\n",
    "    return np.array(xs), np.array(ys)\n",
    "\n",
    "seq_length = 3\n",
    "X, y = create_sequences(sentiment_scaled, seq_length)\n",
    "\n",
    "# Convert to PyTorch tensors\n",
    "X_train = torch.tensor(X, dtype=torch.float32)\n",
    "y_train = torch.tensor(y, dtype=torch.float32)\n",
    "\n",
    "# Define the LSTM model\n",
    "class LSTMModel(nn.Module):\n",
    "    def __init__(self, input_size=1, hidden_layer_size=10, output_size=1):\n",
    "        super(LSTMModel, self).__init__()\n",
    "        self.hidden_layer_size = hidden_layer_size\n",
    "        self.lstm = nn.LSTM(input_size, hidden_layer_size, batch_first=True)\n",
    "        self.linear = nn.Linear(hidden_layer_size, output_size)\n",
    "\n",
    "    def forward(self, input_seq):\n",
    "        lstm_out, _ = self.lstm(input_seq)\n",
    "        predictions = self.linear(lstm_out[:, -1, :])\n",
    "        return predictions\n",
    "\n",
    "model = LSTMModel()\n",
    "loss_function = nn.MSELoss()\n",
    "optimizer = torch.optim.Adam(model.parameters(), lr=0.001)\n",
    "\n",
    "# Train the model\n",
    "epochs = 5\n",
    "for i in range(epochs):\n",
    "    for seq, labels in zip(X_train, y_train):\n",
    "        optimizer.zero_grad()\n",
    "\n",
    "        y_pred = model(seq.view(1, -1, 1))  # Adjusting input shape for LSTM\n",
    "\n",
    "        single_loss = loss_function(y_pred, labels.view(1, -1))\n",
    "        single_loss.backward()\n",
    "        optimizer.step()\n",
    "\n",
    "    if i % 1 == 0:\n",
    "        print(f'epoch: {i:3} loss: {single_loss.item():10.8f}')\n",
    "\n",
    "# Make predictions\n",
    "model.eval()\n",
    "predictions = []\n",
    "for seq in X_train:\n",
    "    with torch.no_grad():\n",
    "        predictions.append(model(seq.view(1, -1, 1)).item())\n",
    "\n",
    "# Scale back the predictions\n",
    "predictions = scaler.inverse_transform(np.array(predictions).reshape(-1, 1))\n",
    "\n",
    "# Flatten the predictions array\n",
    "predictions = predictions.flatten()\n",
    "\n",
    "# Check lengths of indices and predictions\n",
    "print(f'Length of daily_sentiment index: {len(daily_sentiment.index)}')\n",
    "print(f'Length of predictions: {len(predictions)}')\n",
    "\n",
    "# Ensure lengths match for plotting\n",
    "dates_for_plotting = daily_sentiment.index[seq_length:seq_length + len(predictions)].to_numpy()\n",
    "\n",
    "# Flatten dates_for_plotting\n",
    "dates_for_plotting = dates_for_plotting.flatten()\n",
    "\n",
    "# Check lengths again\n",
    "print(f'Length of dates_for_plotting: {len(dates_for_plotting)}')\n",
    "\n",
    "# Ensure dates_for_plotting and predictions are the same length\n",
    "assert len(dates_for_plotting) == len(predictions), \"Lengths of dates and predictions do not match!\"\n",
    "\n",
    "# Plotting\n",
    "plt.figure(figsize=(14, 7))\n",
    "plt.plot(dates_for_plotting, predictions, label='LSTM Predictions', marker='o')\n",
    "plt.title('LSTM Sentiment Forecast')\n",
    "plt.xlabel('Date')\n",
    "plt.ylabel('Sentiment')\n",
    "plt.legend()\n",
    "plt.grid(True)\n",
    "plt.show()\n",
    "\n",
    "print(\"LSTM Forecasts:\")\n",
    "print(predictions[:7])"
   ]
  },
  {
   "cell_type": "code",
   "execution_count": 23,
   "id": "7949a3b4",
   "metadata": {},
   "outputs": [
    {
     "name": "stdout",
     "output_type": "stream",
     "text": [
      "Training with params: {'batch_size': 10, 'epochs': 50, 'hidden_units': 10, 'learning_rate': 0.001}\n",
      "Loss: 1.2128382921218872\n",
      "Training with params: {'batch_size': 10, 'epochs': 50, 'hidden_units': 10, 'learning_rate': 0.01}\n",
      "Loss: 0.6493138074874878\n",
      "Training with params: {'batch_size': 10, 'epochs': 50, 'hidden_units': 10, 'learning_rate': 0.1}\n",
      "Loss: 0.7803501486778259\n",
      "Training with params: {'batch_size': 10, 'epochs': 50, 'hidden_units': 50, 'learning_rate': 0.001}\n",
      "Loss: 1.295399785041809\n",
      "Training with params: {'batch_size': 10, 'epochs': 50, 'hidden_units': 50, 'learning_rate': 0.01}\n",
      "Loss: 0.31187087297439575\n",
      "Training with params: {'batch_size': 10, 'epochs': 50, 'hidden_units': 50, 'learning_rate': 0.1}\n",
      "Loss: 0.2522546350955963\n",
      "Training with params: {'batch_size': 10, 'epochs': 50, 'hidden_units': 100, 'learning_rate': 0.001}\n",
      "Loss: 1.2301597595214844\n",
      "Training with params: {'batch_size': 10, 'epochs': 50, 'hidden_units': 100, 'learning_rate': 0.01}\n",
      "Loss: 0.43210741877555847\n",
      "Training with params: {'batch_size': 10, 'epochs': 50, 'hidden_units': 100, 'learning_rate': 0.1}\n",
      "Loss: 0.22295299172401428\n",
      "Training with params: {'batch_size': 10, 'epochs': 100, 'hidden_units': 10, 'learning_rate': 0.001}\n",
      "Loss: 1.261942744255066\n",
      "Training with params: {'batch_size': 10, 'epochs': 100, 'hidden_units': 10, 'learning_rate': 0.01}\n",
      "Loss: 0.15792237222194672\n",
      "Training with params: {'batch_size': 10, 'epochs': 100, 'hidden_units': 10, 'learning_rate': 0.1}\n",
      "Loss: 0.07633807510137558\n",
      "Training with params: {'batch_size': 10, 'epochs': 100, 'hidden_units': 50, 'learning_rate': 0.001}\n",
      "Loss: 1.1199722290039062\n",
      "Training with params: {'batch_size': 10, 'epochs': 100, 'hidden_units': 50, 'learning_rate': 0.01}\n",
      "Loss: 0.017374133691191673\n",
      "Training with params: {'batch_size': 10, 'epochs': 100, 'hidden_units': 50, 'learning_rate': 0.1}\n",
      "Loss: 0.2377888262271881\n",
      "Training with params: {'batch_size': 10, 'epochs': 100, 'hidden_units': 100, 'learning_rate': 0.001}\n",
      "Loss: 1.0008207559585571\n",
      "Training with params: {'batch_size': 10, 'epochs': 100, 'hidden_units': 100, 'learning_rate': 0.01}\n",
      "Loss: 0.01926243118941784\n",
      "Training with params: {'batch_size': 10, 'epochs': 100, 'hidden_units': 100, 'learning_rate': 0.1}\n",
      "Loss: 0.1958279311656952\n",
      "Training with params: {'batch_size': 20, 'epochs': 50, 'hidden_units': 10, 'learning_rate': 0.001}\n",
      "Loss: 1.0349316596984863\n",
      "Training with params: {'batch_size': 20, 'epochs': 50, 'hidden_units': 10, 'learning_rate': 0.01}\n",
      "Loss: 0.9959874153137207\n",
      "Training with params: {'batch_size': 20, 'epochs': 50, 'hidden_units': 10, 'learning_rate': 0.1}\n",
      "Loss: 0.08622138202190399\n",
      "Training with params: {'batch_size': 20, 'epochs': 50, 'hidden_units': 50, 'learning_rate': 0.001}\n",
      "Loss: 1.0534470081329346\n",
      "Training with params: {'batch_size': 20, 'epochs': 50, 'hidden_units': 50, 'learning_rate': 0.01}\n",
      "Loss: 0.5806218385696411\n",
      "Training with params: {'batch_size': 20, 'epochs': 50, 'hidden_units': 50, 'learning_rate': 0.1}\n",
      "Loss: 0.22066064178943634\n",
      "Training with params: {'batch_size': 20, 'epochs': 50, 'hidden_units': 100, 'learning_rate': 0.001}\n",
      "Loss: 1.0726698637008667\n",
      "Training with params: {'batch_size': 20, 'epochs': 50, 'hidden_units': 100, 'learning_rate': 0.01}\n",
      "Loss: 0.356574684381485\n",
      "Training with params: {'batch_size': 20, 'epochs': 50, 'hidden_units': 100, 'learning_rate': 0.1}\n",
      "Loss: 0.6523281931877136\n",
      "Training with params: {'batch_size': 20, 'epochs': 100, 'hidden_units': 10, 'learning_rate': 0.001}\n",
      "Loss: 1.0385955572128296\n",
      "Training with params: {'batch_size': 20, 'epochs': 100, 'hidden_units': 10, 'learning_rate': 0.01}\n",
      "Loss: 0.5673854947090149\n",
      "Training with params: {'batch_size': 20, 'epochs': 100, 'hidden_units': 10, 'learning_rate': 0.1}\n",
      "Loss: 0.038153164088726044\n",
      "Training with params: {'batch_size': 20, 'epochs': 100, 'hidden_units': 50, 'learning_rate': 0.001}\n",
      "Loss: 1.0420888662338257\n",
      "Training with params: {'batch_size': 20, 'epochs': 100, 'hidden_units': 50, 'learning_rate': 0.01}\n",
      "Loss: 0.07138897478580475\n",
      "Training with params: {'batch_size': 20, 'epochs': 100, 'hidden_units': 50, 'learning_rate': 0.1}\n",
      "Loss: 0.005588635802268982\n",
      "Training with params: {'batch_size': 20, 'epochs': 100, 'hidden_units': 100, 'learning_rate': 0.001}\n",
      "Loss: 0.9995372891426086\n",
      "Training with params: {'batch_size': 20, 'epochs': 100, 'hidden_units': 100, 'learning_rate': 0.01}\n",
      "Loss: 0.0015914617106318474\n",
      "Training with params: {'batch_size': 20, 'epochs': 100, 'hidden_units': 100, 'learning_rate': 0.1}\n",
      "Loss: 0.12660157680511475\n",
      "Training with params: {'batch_size': 30, 'epochs': 50, 'hidden_units': 10, 'learning_rate': 0.001}\n",
      "Loss: 1.116613507270813\n",
      "Training with params: {'batch_size': 30, 'epochs': 50, 'hidden_units': 10, 'learning_rate': 0.01}\n",
      "Loss: 0.996163547039032\n",
      "Training with params: {'batch_size': 30, 'epochs': 50, 'hidden_units': 10, 'learning_rate': 0.1}\n",
      "Loss: 0.02893010340631008\n",
      "Training with params: {'batch_size': 30, 'epochs': 50, 'hidden_units': 50, 'learning_rate': 0.001}\n",
      "Loss: 1.1354749202728271\n",
      "Training with params: {'batch_size': 30, 'epochs': 50, 'hidden_units': 50, 'learning_rate': 0.01}\n",
      "Loss: 0.2016211748123169\n",
      "Training with params: {'batch_size': 30, 'epochs': 50, 'hidden_units': 50, 'learning_rate': 0.1}\n",
      "Loss: 0.16219386458396912\n",
      "Training with params: {'batch_size': 30, 'epochs': 50, 'hidden_units': 100, 'learning_rate': 0.001}\n",
      "Loss: 1.1330629587173462\n",
      "Training with params: {'batch_size': 30, 'epochs': 50, 'hidden_units': 100, 'learning_rate': 0.01}\n",
      "Loss: 0.1883573830127716\n",
      "Training with params: {'batch_size': 30, 'epochs': 50, 'hidden_units': 100, 'learning_rate': 0.1}\n",
      "Loss: 0.055751316249370575\n",
      "Training with params: {'batch_size': 30, 'epochs': 100, 'hidden_units': 10, 'learning_rate': 0.001}\n",
      "Loss: 1.1431939601898193\n",
      "Training with params: {'batch_size': 30, 'epochs': 100, 'hidden_units': 10, 'learning_rate': 0.01}\n",
      "Loss: 0.07994995266199112\n",
      "Training with params: {'batch_size': 30, 'epochs': 100, 'hidden_units': 10, 'learning_rate': 0.1}\n",
      "Loss: 0.006918848026543856\n",
      "Training with params: {'batch_size': 30, 'epochs': 100, 'hidden_units': 50, 'learning_rate': 0.001}\n",
      "Loss: 1.1333773136138916\n",
      "Training with params: {'batch_size': 30, 'epochs': 100, 'hidden_units': 50, 'learning_rate': 0.01}\n",
      "Loss: 0.03627762943506241\n",
      "Training with params: {'batch_size': 30, 'epochs': 100, 'hidden_units': 50, 'learning_rate': 0.1}\n",
      "Loss: 0.05684635788202286\n",
      "Training with params: {'batch_size': 30, 'epochs': 100, 'hidden_units': 100, 'learning_rate': 0.001}\n",
      "Loss: 1.0836783647537231\n",
      "Training with params: {'batch_size': 30, 'epochs': 100, 'hidden_units': 100, 'learning_rate': 0.01}\n",
      "Loss: 0.031816162168979645\n",
      "Training with params: {'batch_size': 30, 'epochs': 100, 'hidden_units': 100, 'learning_rate': 0.1}\n",
      "Loss: 0.014638341031968594\n",
      "Best params: {'batch_size': 20, 'epochs': 100, 'hidden_units': 100, 'learning_rate': 0.01}\n"
     ]
    }
   ],
   "source": [
    "from sklearn.model_selection import ParameterGrid\n",
    "\n",
    "# Define a function to train the model\n",
    "def train_model(hidden_units, learning_rate, epochs, batch_size):\n",
    "    model = LSTMModel(hidden_layer_size=hidden_units)\n",
    "    optimizer = torch.optim.Adam(model.parameters(), lr=learning_rate)\n",
    "    loss_function = nn.MSELoss()\n",
    "    \n",
    "    for epoch in range(epochs):\n",
    "        for start in range(0, len(X_train), batch_size):\n",
    "            end = start + batch_size\n",
    "            seq = X_train[start:end]\n",
    "            labels = y_train[start:end]\n",
    "            optimizer.zero_grad()\n",
    "            y_pred = model(seq)\n",
    "            single_loss = loss_function(y_pred, labels)\n",
    "            single_loss.backward()\n",
    "            optimizer.step()\n",
    "\n",
    "    return model, single_loss.item()\n",
    "\n",
    "# Define hyperparameter grid\n",
    "param_grid = {\n",
    "    'hidden_units': [10, 50, 100],\n",
    "    'learning_rate': [0.001, 0.01, 0.1],\n",
    "    'epochs': [50, 100],\n",
    "    'batch_size': [10, 20, 30]\n",
    "}\n",
    "\n",
    "best_loss = float('inf')\n",
    "best_params = None\n",
    "best_model = None\n",
    "\n",
    "# Perform grid search\n",
    "for params in ParameterGrid(param_grid):\n",
    "    print(f\"Training with params: {params}\")\n",
    "    model, loss = train_model(params['hidden_units'], params['learning_rate'], params['epochs'], params['batch_size'])\n",
    "    print(f\"Loss: {loss}\")\n",
    "    if loss < best_loss:\n",
    "        best_loss = loss\n",
    "        best_params = params\n",
    "        best_model = model\n",
    "\n",
    "print(f\"Best params: {best_params}\")\n"
   ]
  },
  {
   "cell_type": "code",
   "execution_count": 24,
   "id": "80e8abfb",
   "metadata": {},
   "outputs": [
    {
     "name": "stdout",
     "output_type": "stream",
     "text": [
      "epoch:   0 loss: 1.06087494\n",
      "epoch:  10 loss: 1.06852508\n",
      "epoch:  20 loss: 0.89833087\n",
      "epoch:  30 loss: 0.71902698\n",
      "epoch:  40 loss: 0.57278401\n",
      "epoch:  50 loss: 0.48299453\n",
      "epoch:  60 loss: 0.25835785\n",
      "epoch:  70 loss: 0.09371856\n",
      "epoch:  80 loss: 0.09389763\n",
      "epoch:  90 loss: 0.07363065\n"
     ]
    }
   ],
   "source": [
    "# Retrain the LSTM model with the best parameters\n",
    "hidden_units = best_params['hidden_units']\n",
    "learning_rate = best_params['learning_rate']\n",
    "epochs = best_params['epochs']\n",
    "batch_size = best_params['batch_size']\n",
    "\n",
    "model = LSTMModel(hidden_layer_size=hidden_units)\n",
    "optimizer = torch.optim.Adam(model.parameters(), lr=learning_rate)\n",
    "loss_function = nn.MSELoss()\n",
    "\n",
    "for epoch in range(epochs):\n",
    "    for start in range(0, len(X_train), batch_size):\n",
    "        end = start + batch_size\n",
    "        seq = X_train[start:end]\n",
    "        labels = y_train[start:end]\n",
    "        optimizer.zero_grad()\n",
    "        y_pred = model(seq)\n",
    "        single_loss = loss_function(y_pred, labels)\n",
    "        single_loss.backward()\n",
    "        optimizer.step()\n",
    "\n",
    "    if epoch % 10 == 0:\n",
    "        print(f'epoch: {epoch:3} loss: {single_loss.item():10.8f}')\n"
   ]
  },
  {
   "cell_type": "code",
   "execution_count": 25,
   "id": "7260ea5b",
   "metadata": {},
   "outputs": [
    {
     "name": "stdout",
     "output_type": "stream",
     "text": [
      "Defaulting to user installation because normal site-packages is not writeable\n",
      "Requirement already satisfied: dash in /home/hduser/.local/lib/python3.10/site-packages (2.17.0)\n",
      "Requirement already satisfied: setuptools in /usr/lib/python3/dist-packages (from dash) (59.6.0)\n",
      "Requirement already satisfied: dash-html-components==2.0.0 in /home/hduser/.local/lib/python3.10/site-packages (from dash) (2.0.0)\n",
      "Requirement already satisfied: plotly>=5.0.0 in /home/hduser/.local/lib/python3.10/site-packages (from dash) (5.22.0)\n",
      "Requirement already satisfied: Flask<3.1,>=1.0.4 in /home/hduser/.local/lib/python3.10/site-packages (from dash) (3.0.3)\n",
      "Requirement already satisfied: dash-table==5.0.0 in /home/hduser/.local/lib/python3.10/site-packages (from dash) (5.0.0)\n",
      "Requirement already satisfied: requests in /home/hduser/.local/lib/python3.10/site-packages (from dash) (2.31.0)\n",
      "Requirement already satisfied: Werkzeug<3.1 in /home/hduser/.local/lib/python3.10/site-packages (from dash) (3.0.1)\n",
      "Requirement already satisfied: retrying in /home/hduser/.local/lib/python3.10/site-packages (from dash) (1.3.4)\n",
      "Requirement already satisfied: typing-extensions>=4.1.1 in /home/hduser/.local/lib/python3.10/site-packages (from dash) (4.10.0)\n",
      "Requirement already satisfied: dash-core-components==2.0.0 in /home/hduser/.local/lib/python3.10/site-packages (from dash) (2.0.0)\n",
      "Requirement already satisfied: nest-asyncio in /usr/lib/python3/dist-packages (from dash) (1.5.4)\n",
      "Requirement already satisfied: importlib-metadata in /usr/lib/python3/dist-packages (from dash) (4.6.4)\n",
      "Requirement already satisfied: blinker>=1.6.2 in /home/hduser/.local/lib/python3.10/site-packages (from Flask<3.1,>=1.0.4->dash) (1.8.2)\n",
      "Requirement already satisfied: itsdangerous>=2.1.2 in /home/hduser/.local/lib/python3.10/site-packages (from Flask<3.1,>=1.0.4->dash) (2.2.0)\n",
      "Requirement already satisfied: Jinja2>=3.1.2 in /home/hduser/.local/lib/python3.10/site-packages (from Flask<3.1,>=1.0.4->dash) (3.1.4)\n",
      "Requirement already satisfied: click>=8.1.3 in /home/hduser/.local/lib/python3.10/site-packages (from Flask<3.1,>=1.0.4->dash) (8.1.7)\n",
      "Requirement already satisfied: packaging in /usr/lib/python3/dist-packages (from plotly>=5.0.0->dash) (21.3)\n",
      "Requirement already satisfied: tenacity>=6.2.0 in /home/hduser/.local/lib/python3.10/site-packages (from plotly>=5.0.0->dash) (8.3.0)\n",
      "Requirement already satisfied: MarkupSafe>=2.1.1 in /home/hduser/.local/lib/python3.10/site-packages (from Werkzeug<3.1->dash) (2.1.5)\n",
      "Requirement already satisfied: idna<4,>=2.5 in /usr/lib/python3/dist-packages (from requests->dash) (3.3)\n",
      "Requirement already satisfied: charset-normalizer<4,>=2 in /home/hduser/.local/lib/python3.10/site-packages (from requests->dash) (3.3.2)\n",
      "Requirement already satisfied: urllib3<3,>=1.21.1 in /usr/lib/python3/dist-packages (from requests->dash) (1.26.5)\n",
      "Requirement already satisfied: certifi>=2017.4.17 in /usr/lib/python3/dist-packages (from requests->dash) (2020.6.20)\n",
      "Requirement already satisfied: six>=1.7.0 in /usr/lib/python3/dist-packages (from retrying->dash) (1.16.0)\n"
     ]
    }
   ],
   "source": [
    "!pip install dash\n"
   ]
  },
  {
   "cell_type": "code",
   "execution_count": 26,
   "id": "a5ea090f",
   "metadata": {},
   "outputs": [
    {
     "data": {
      "text/html": [
       "\n",
       "        <iframe\n",
       "            width=\"100%\"\n",
       "            height=\"650\"\n",
       "            src=\"http://127.0.0.1:8050/\"\n",
       "            frameborder=\"0\"\n",
       "            allowfullscreen\n",
       "            \n",
       "        ></iframe>\n",
       "        "
      ],
      "text/plain": [
       "<IPython.lib.display.IFrame at 0x792cf86f0d00>"
      ]
     },
     "metadata": {},
     "output_type": "display_data"
    }
   ],
   "source": [
    "import dash\n",
    "from dash import dcc, html\n",
    "from dash.dependencies import Input, Output\n",
    "import pandas as pd\n",
    "import plotly.express as px\n",
    "import plotly.graph_objects as go\n",
    "from plotly.subplots import make_subplots\n",
    "from pymongo import MongoClient\n",
    "\n",
    "# Initialize the Dash app\n",
    "app = dash.Dash(__name__)\n",
    "\n",
    "# Connect to MongoDB\n",
    "client = MongoClient(\"mongodb://localhost:27017/\")\n",
    "db = client[\"twitter_sentiment\"]\n",
    "collection = db[\"tweets\"]\n",
    "\n",
    "# Fetch data from MongoDB\n",
    "documents = collection.find()\n",
    "df = pd.DataFrame(list(documents))\n",
    "\n",
    "# Ensure the sentiment column is numeric\n",
    "df['sentiment'] = pd.to_numeric(df['sentiment'], errors='coerce')\n",
    "\n",
    "# Drop rows with NaN values in the sentiment column\n",
    "df = df.dropna(subset=['sentiment'])\n",
    "\n",
    "# Ensure the date column is in datetime format\n",
    "df['date'] = pd.to_datetime(df['date'], errors='coerce')\n",
    "\n",
    "# Drop rows with NaT values in the date column\n",
    "df = df.dropna(subset=['date'])\n",
    "\n",
    "# Group by date and calculate average sentiment\n",
    "sentiment_trend = df.groupby('date')['sentiment'].mean().reset_index()\n",
    "\n",
    "# User sentiment analysis\n",
    "user_sentiment = df.groupby('user')['sentiment'].mean().reset_index()\n",
    "user_sentiment_top5 = user_sentiment.nlargest(5, 'sentiment')\n",
    "user_sentiment_bottom5 = user_sentiment.nsmallest(5, 'sentiment')\n",
    "\n",
    "# Create figures for the dashboard\n",
    "fig_trend = px.line(sentiment_trend, x='date', y='sentiment', title='Sentiment Trend Over Time')\n",
    "fig_hist = px.histogram(df, x='sentiment', nbins=20, title='Sentiment Score Distribution')\n",
    "fig_user_sentiment_top5 = px.bar(user_sentiment_top5, x='user', y='sentiment', title='Top 5 Users with Highest Average Sentiment')\n",
    "fig_user_sentiment_bottom5 = px.bar(user_sentiment_bottom5, x='user', y='sentiment', title='Top 5 Users with Lowest Average Sentiment')\n",
    "\n",
    "# Define the layout of the app\n",
    "app.layout = html.Div([\n",
    "    html.H1(\"Twitter Sentiment Analysis Dashboard\"),\n",
    "    \n",
    "    dcc.Graph(id='trend-graph', figure=fig_trend),\n",
    "    \n",
    "    dcc.Graph(id='hist-graph', figure=fig_hist),\n",
    "    \n",
    "    html.Div([\n",
    "        dcc.Graph(id='user-sentiment-top5', figure=fig_user_sentiment_top5),\n",
    "        dcc.Graph(id='user-sentiment-bottom5', figure=fig_user_sentiment_bottom5)\n",
    "    ], style={'display': 'flex', 'flex-direction': 'row', 'justify-content': 'space-between'})\n",
    "])\n",
    "\n",
    "# Run the app\n",
    "if __name__ == '__main__':\n",
    "    app.run_server(debug=True)\n"
   ]
  },
  {
   "cell_type": "code",
   "execution_count": null,
   "id": "10b36a01",
   "metadata": {},
   "outputs": [],
   "source": []
  },
  {
   "cell_type": "code",
   "execution_count": null,
   "id": "7ba2aa3b",
   "metadata": {},
   "outputs": [],
   "source": []
  },
  {
   "cell_type": "code",
   "execution_count": null,
   "id": "5f09375a",
   "metadata": {},
   "outputs": [],
   "source": []
  },
  {
   "cell_type": "code",
   "execution_count": null,
   "id": "9c0502e5",
   "metadata": {},
   "outputs": [],
   "source": []
  },
  {
   "cell_type": "code",
   "execution_count": null,
   "id": "ef5edc44",
   "metadata": {},
   "outputs": [],
   "source": []
  },
  {
   "cell_type": "code",
   "execution_count": null,
   "id": "13f5a784",
   "metadata": {},
   "outputs": [],
   "source": []
  },
  {
   "cell_type": "code",
   "execution_count": null,
   "id": "436e467a",
   "metadata": {},
   "outputs": [],
   "source": []
  },
  {
   "cell_type": "code",
   "execution_count": null,
   "id": "559aa9c3",
   "metadata": {},
   "outputs": [],
   "source": []
  },
  {
   "cell_type": "code",
   "execution_count": null,
   "id": "38e593a3",
   "metadata": {},
   "outputs": [],
   "source": []
  },
  {
   "cell_type": "code",
   "execution_count": null,
   "id": "2227d26f",
   "metadata": {},
   "outputs": [],
   "source": []
  },
  {
   "cell_type": "code",
   "execution_count": null,
   "id": "10cd84a1",
   "metadata": {},
   "outputs": [],
   "source": []
  },
  {
   "cell_type": "code",
   "execution_count": null,
   "id": "509e88e9",
   "metadata": {},
   "outputs": [],
   "source": []
  },
  {
   "cell_type": "code",
   "execution_count": null,
   "id": "8c6a5dda",
   "metadata": {},
   "outputs": [],
   "source": []
  },
  {
   "cell_type": "code",
   "execution_count": null,
   "id": "9e2b57d5",
   "metadata": {},
   "outputs": [],
   "source": []
  },
  {
   "cell_type": "code",
   "execution_count": null,
   "id": "ec23dec8",
   "metadata": {},
   "outputs": [],
   "source": []
  },
  {
   "cell_type": "code",
   "execution_count": null,
   "id": "8d0c512a",
   "metadata": {},
   "outputs": [],
   "source": []
  },
  {
   "cell_type": "code",
   "execution_count": null,
   "id": "e5b0417c",
   "metadata": {},
   "outputs": [],
   "source": []
  },
  {
   "cell_type": "code",
   "execution_count": null,
   "id": "518d7a92",
   "metadata": {},
   "outputs": [],
   "source": []
  },
  {
   "cell_type": "code",
   "execution_count": null,
   "id": "3e8f17c9",
   "metadata": {},
   "outputs": [],
   "source": []
  },
  {
   "cell_type": "code",
   "execution_count": null,
   "id": "3e9a2405",
   "metadata": {},
   "outputs": [],
   "source": []
  },
  {
   "cell_type": "code",
   "execution_count": null,
   "id": "bc3ac8d5",
   "metadata": {},
   "outputs": [],
   "source": []
  },
  {
   "cell_type": "code",
   "execution_count": null,
   "id": "5bcbfbe2",
   "metadata": {},
   "outputs": [],
   "source": []
  },
  {
   "cell_type": "code",
   "execution_count": null,
   "id": "f2440ddb",
   "metadata": {},
   "outputs": [],
   "source": []
  },
  {
   "cell_type": "code",
   "execution_count": null,
   "id": "84d58ee2",
   "metadata": {},
   "outputs": [],
   "source": []
  },
  {
   "cell_type": "code",
   "execution_count": null,
   "id": "207122ac",
   "metadata": {},
   "outputs": [],
   "source": []
  }
 ],
 "metadata": {
  "kernelspec": {
   "display_name": "Python 3 (ipykernel)",
   "language": "python",
   "name": "python3"
  },
  "language_info": {
   "codemirror_mode": {
    "name": "ipython",
    "version": 3
   },
   "file_extension": ".py",
   "mimetype": "text/x-python",
   "name": "python",
   "nbconvert_exporter": "python",
   "pygments_lexer": "ipython3",
   "version": "3.11.5"
  }
 },
 "nbformat": 4,
 "nbformat_minor": 5
}
